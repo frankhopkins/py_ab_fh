{
 "cells": [
  {
   "cell_type": "markdown",
   "metadata": {},
   "source": [
    "# 3. Significance Testing for Continuous Metrics (Frequestist Approach)"
   ]
  },
  {
   "cell_type": "markdown",
   "metadata": {},
   "source": [
    "You have now proven to your stakeholders that including the retro imagery of Keanu has had a positive impact on click-throughs, but they now want to know that the change isn't going to have an impact on content consumption after the user has clicked on the image. In this instance you may want to assess the performance of a continuous, non-discrete variable for each of your experimental conditions. If you are working with a continuous metric — which are variables that can take on an unlimited range of values between both the lowest and highest points of a given measurement — the T-test is probably most familiar to you and that is what this notebook will entail, computation of a parametric statistical test for a page views per session (Pvs_per_session) metric. Internal stakeholders have identified that they would like this metric to either increase or not be negatively impacted by the change.\n",
    "\n",
    "So let's get to work.\n",
    "\n",
    "First import the necessary packages for analysis:"
   ]
  },
  {
   "cell_type": "code",
   "execution_count": 16,
   "metadata": {},
   "outputs": [
    {
     "name": "stdout",
     "output_type": "stream",
     "text": [
      "\n",
      "Usage:   \n",
      "  pip install [options] <requirement specifier> [package-index-options] ...\n",
      "  pip install [options] -r <requirements file> [package-index-options] ...\n",
      "  pip install [options] [-e] <vcs project url> ...\n",
      "  pip install [options] [-e] <local project path> ...\n",
      "  pip install [options] <archive url/path> ...\n",
      "\n",
      "no such option: --no-progress-bar\n"
     ]
    }
   ],
   "source": [
    "!pip install --no-progress-bar statsmodels"
   ]
  },
  {
   "cell_type": "code",
   "execution_count": 17,
   "metadata": {},
   "outputs": [],
   "source": [
    "import pandas as pd\n",
    "import seaborn as sb\n",
    "import matplotlib as plt\n",
    "import numpy as np\n",
    "import statistics\n",
    "from scipy import stats\n",
    "import seaborn as sns\n",
    "import matplotlib.pyplot as plt\n",
    "from statsmodels.stats.multicomp import pairwise_tukeyhsd\n",
    "from statsmodels.stats.multicomp import MultiComparison\n",
    "import warnings\n",
    "import statistics\n",
    "import scipy\n",
    "from scipy import stats"
   ]
  },
  {
   "cell_type": "code",
   "execution_count": 18,
   "metadata": {},
   "outputs": [],
   "source": [
    "warnings.filterwarnings(\"ignore\")"
   ]
  },
  {
   "cell_type": "markdown",
   "metadata": {},
   "source": [
    "Import your browser level data (each row will represent a unique id or cookie id):"
   ]
  },
  {
   "cell_type": "code",
   "execution_count": 19,
   "metadata": {},
   "outputs": [
    {
     "data": {
      "text/html": [
       "<div>\n",
       "<style scoped>\n",
       "    .dataframe tbody tr th:only-of-type {\n",
       "        vertical-align: middle;\n",
       "    }\n",
       "\n",
       "    .dataframe tbody tr th {\n",
       "        vertical-align: top;\n",
       "    }\n",
       "\n",
       "    .dataframe thead th {\n",
       "        text-align: right;\n",
       "    }\n",
       "</style>\n",
       "<table border=\"1\" class=\"dataframe\">\n",
       "  <thead>\n",
       "    <tr style=\"text-align: right;\">\n",
       "      <th></th>\n",
       "      <th>unique_cookie_id</th>\n",
       "      <th>Variant</th>\n",
       "      <th>Pvs_per_session</th>\n",
       "    </tr>\n",
       "  </thead>\n",
       "  <tbody>\n",
       "    <tr>\n",
       "      <th>0</th>\n",
       "      <td>##kdjdsvbnkdf</td>\n",
       "      <td>Control_Matrix</td>\n",
       "      <td>2.343523</td>\n",
       "    </tr>\n",
       "    <tr>\n",
       "      <th>1</th>\n",
       "      <td>kldvnlkaefv</td>\n",
       "      <td>Control_Matrix</td>\n",
       "      <td>1.234300</td>\n",
       "    </tr>\n",
       "    <tr>\n",
       "      <th>2</th>\n",
       "      <td>nvaljkdfnvkld4798</td>\n",
       "      <td>Control_Matrix</td>\n",
       "      <td>3.353000</td>\n",
       "    </tr>\n",
       "    <tr>\n",
       "      <th>3</th>\n",
       "      <td>shanuf9v354###nkas</td>\n",
       "      <td>Control_Matrix</td>\n",
       "      <td>3.319751</td>\n",
       "    </tr>\n",
       "    <tr>\n",
       "      <th>4</th>\n",
       "      <td>nbncjkbd</td>\n",
       "      <td>Control_Matrix</td>\n",
       "      <td>3.824490</td>\n",
       "    </tr>\n",
       "    <tr>\n",
       "      <th>...</th>\n",
       "      <td>...</td>\n",
       "      <td>...</td>\n",
       "      <td>...</td>\n",
       "    </tr>\n",
       "    <tr>\n",
       "      <th>95</th>\n",
       "      <td>dkvhjdk844</td>\n",
       "      <td>Control_Matrix</td>\n",
       "      <td>8.367136</td>\n",
       "    </tr>\n",
       "    <tr>\n",
       "      <th>96</th>\n",
       "      <td>sjhkjfhbdwjkv</td>\n",
       "      <td>Control_Matrix</td>\n",
       "      <td>8.871875</td>\n",
       "    </tr>\n",
       "    <tr>\n",
       "      <th>97</th>\n",
       "      <td>kldvnlkaefv</td>\n",
       "      <td>Control_Matrix</td>\n",
       "      <td>9.376613</td>\n",
       "    </tr>\n",
       "    <tr>\n",
       "      <th>98</th>\n",
       "      <td>nvaljkdfnvkld4805</td>\n",
       "      <td>Control_Matrix</td>\n",
       "      <td>9.881352</td>\n",
       "    </tr>\n",
       "    <tr>\n",
       "      <th>99</th>\n",
       "      <td>shanuf9v361</td>\n",
       "      <td>Variant_BT</td>\n",
       "      <td>3.153445</td>\n",
       "    </tr>\n",
       "  </tbody>\n",
       "</table>\n",
       "<p>100 rows × 3 columns</p>\n",
       "</div>"
      ],
      "text/plain": [
       "      unique_cookie_id         Variant  Pvs_per_session\n",
       "0        ##kdjdsvbnkdf  Control_Matrix         2.343523\n",
       "1          kldvnlkaefv  Control_Matrix         1.234300\n",
       "2    nvaljkdfnvkld4798  Control_Matrix         3.353000\n",
       "3   shanuf9v354###nkas  Control_Matrix         3.319751\n",
       "4             nbncjkbd  Control_Matrix         3.824490\n",
       "..                 ...             ...              ...\n",
       "95          dkvhjdk844  Control_Matrix         8.367136\n",
       "96       sjhkjfhbdwjkv  Control_Matrix         8.871875\n",
       "97         kldvnlkaefv  Control_Matrix         9.376613\n",
       "98   nvaljkdfnvkld4805  Control_Matrix         9.881352\n",
       "99         shanuf9v361      Variant_BT         3.153445\n",
       "\n",
       "[100 rows x 3 columns]"
      ]
     },
     "execution_count": 19,
     "metadata": {},
     "output_type": "execute_result"
    }
   ],
   "source": [
    "local = 'keanu_df.csv'\n",
    "df = pd.read_csv(local, encoding='unicode_escape')\n",
    "df.head(100)"
   ]
  },
  {
   "cell_type": "markdown",
   "metadata": {},
   "source": [
    "You may want to group by count to ensure you have equally weighted experimental groups, in order to ascertain you have grouped/collected the data correctly:"
   ]
  },
  {
   "cell_type": "code",
   "execution_count": 20,
   "metadata": {},
   "outputs": [
    {
     "data": {
      "text/html": [
       "<div>\n",
       "<style scoped>\n",
       "    .dataframe tbody tr th:only-of-type {\n",
       "        vertical-align: middle;\n",
       "    }\n",
       "\n",
       "    .dataframe tbody tr th {\n",
       "        vertical-align: top;\n",
       "    }\n",
       "\n",
       "    .dataframe thead th {\n",
       "        text-align: right;\n",
       "    }\n",
       "</style>\n",
       "<table border=\"1\" class=\"dataframe\">\n",
       "  <thead>\n",
       "    <tr style=\"text-align: right;\">\n",
       "      <th></th>\n",
       "      <th>unique_cookie_id</th>\n",
       "      <th>Pvs_per_session</th>\n",
       "    </tr>\n",
       "    <tr>\n",
       "      <th>Variant</th>\n",
       "      <th></th>\n",
       "      <th></th>\n",
       "    </tr>\n",
       "  </thead>\n",
       "  <tbody>\n",
       "    <tr>\n",
       "      <th>Control_Matrix</th>\n",
       "      <td>99</td>\n",
       "      <td>99</td>\n",
       "    </tr>\n",
       "    <tr>\n",
       "      <th>Variant_BT</th>\n",
       "      <td>100</td>\n",
       "      <td>100</td>\n",
       "    </tr>\n",
       "  </tbody>\n",
       "</table>\n",
       "</div>"
      ],
      "text/plain": [
       "                unique_cookie_id  Pvs_per_session\n",
       "Variant                                          \n",
       "Control_Matrix                99               99\n",
       "Variant_BT                   100              100"
      ]
     },
     "execution_count": 20,
     "metadata": {},
     "output_type": "execute_result"
    }
   ],
   "source": [
    "df.groupby(['Variant']).count()"
   ]
  },
  {
   "cell_type": "markdown",
   "metadata": {},
   "source": [
    "You can now check the overall mean values for the Pvs_per_session metric:"
   ]
  },
  {
   "cell_type": "code",
   "execution_count": 21,
   "metadata": {},
   "outputs": [
    {
     "data": {
      "text/html": [
       "<div>\n",
       "<style scoped>\n",
       "    .dataframe tbody tr th:only-of-type {\n",
       "        vertical-align: middle;\n",
       "    }\n",
       "\n",
       "    .dataframe tbody tr th {\n",
       "        vertical-align: top;\n",
       "    }\n",
       "\n",
       "    .dataframe thead th {\n",
       "        text-align: right;\n",
       "    }\n",
       "</style>\n",
       "<table border=\"1\" class=\"dataframe\">\n",
       "  <thead>\n",
       "    <tr style=\"text-align: right;\">\n",
       "      <th></th>\n",
       "      <th>Pvs_per_session</th>\n",
       "    </tr>\n",
       "    <tr>\n",
       "      <th>Variant</th>\n",
       "      <th></th>\n",
       "    </tr>\n",
       "  </thead>\n",
       "  <tbody>\n",
       "    <tr>\n",
       "      <th>Control_Matrix</th>\n",
       "      <td>5.726181</td>\n",
       "    </tr>\n",
       "    <tr>\n",
       "      <th>Variant_BT</th>\n",
       "      <td>7.670531</td>\n",
       "    </tr>\n",
       "  </tbody>\n",
       "</table>\n",
       "</div>"
      ],
      "text/plain": [
       "                Pvs_per_session\n",
       "Variant                        \n",
       "Control_Matrix         5.726181\n",
       "Variant_BT             7.670531"
      ]
     },
     "execution_count": 21,
     "metadata": {},
     "output_type": "execute_result"
    }
   ],
   "source": [
    "df.groupby(['Variant']).mean()"
   ]
  },
  {
   "cell_type": "markdown",
   "metadata": {},
   "source": [
    "Before we perform any statistical analysis, it is import to check the variance within our data and if this varies for each experimental condition. First we calculate the standard deviation for each variation and then plot the distributions for Pvs_per_session:"
   ]
  },
  {
   "cell_type": "code",
   "execution_count": 22,
   "metadata": {},
   "outputs": [
    {
     "name": "stdout",
     "output_type": "stream",
     "text": [
      "Standard deviation of experiment metric for control is is 2.4498\n",
      "Standard deviation of experiment metric for variant is is 3.2979\n"
     ]
    },
    {
     "data": {
      "text/plain": [
       "<matplotlib.legend.Legend at 0x7fa6ad40ac10>"
      ]
     },
     "execution_count": 22,
     "metadata": {},
     "output_type": "execute_result"
    },
    {
     "data": {
      "image/png": "[encoded data removed]",
      "text/plain": [
       "<Figure size 720x576 with 1 Axes>"
      ]
     },
     "metadata": {
      "needs_background": "light"
     },
     "output_type": "display_data"
    }
   ],
   "source": [
    "## Create seperate data-frames for experimental conditions\n",
    "\n",
    "Control_Matrix = df[(df['Variant'] == 'Control_Matrix')]\n",
    "Variant_BT = df[(df['Variant'] == 'Variant_BT')]\n",
    "\n",
    "## Calculate individual variance\n",
    "\n",
    "std_control = statistics.stdev(Control_Matrix.Pvs_per_session)\n",
    "std_variant = statistics.stdev(Variant_BT.Pvs_per_session)\n",
    "\n",
    "## Print values\n",
    "\n",
    "print (\"Standard deviation of experiment metric for control is is % s\"\n",
    "    % round(std_control,4))\n",
    "\n",
    "print (\"Standard deviation of experiment metric for variant is is % s\"\n",
    "    % round(std_variant,4))\n",
    "\n",
    "## Plot distributions\n",
    "\n",
    "plt.figure(figsize=(10,8))\n",
    "sb.distplot(Control_Matrix.Pvs_per_session)\n",
    "sb.distplot(Variant_BT.Pvs_per_session)\n",
    "plt.legend(labels=['Control_Matrix','Variant_BT'])"
   ]
  },
  {
   "cell_type": "markdown",
   "metadata": {},
   "source": [
    "As seen above the data for our variant condition exhibits a higher standard deviation, which again is visible in our distributions. The variant Pvs_per_session data exhibits a flatter curve which covers more data points. We can now run a [Kolmogorov–Smirnov test](https://en.wikipedia.org/wiki/Kolmogorov%E2%80%93Smirnov_test), using the stats package in order to check the Pvs_per_session data isn't abnormally distributed. Here we are looking for a p value > 0.05 to signify our data is not significantly abnormally distributed:"
   ]
  },
  {
   "cell_type": "code",
   "execution_count": 23,
   "metadata": {},
   "outputs": [
    {
     "name": "stdout",
     "output_type": "stream",
     "text": [
      "Data is abnormally distributed. Proceed to removing outliers. The p value is 1.968100411302251e-230\n"
     ]
    }
   ],
   "source": [
    "ks_test = stats.kstest(df.Pvs_per_session, 'norm')\n",
    "p_value_vs = ks_test.pvalue\n",
    "\n",
    "if p_value_vs < 0.05:\n",
    "    print(\"Data is abnormally distributed. Proceed to removing outliers. The p value is\",(p_value_vs),)\n",
    "else:\n",
    "    print(\"Data is not abnormally distributed and does not need cleaning.The p value is\",(p_value_vs),)"
   ]
  },
  {
   "cell_type": "markdown",
   "metadata": {},
   "source": [
    "As seen above p < 0.05, therefore we will look to cleaning our data and omitting extreme outliers prior to statistical analysis."
   ]
  },
  {
   "cell_type": "markdown",
   "metadata": {},
   "source": [
    "## Cleaning data - Remove Outliers"
   ]
  },
  {
   "cell_type": "markdown",
   "metadata": {},
   "source": [
    "Here we will look to remove data + 3 standard deviations from the mean for Pvs_per_session; this is a scientific standard and alligns with stats engines from numerous online A/B testing platforms. First identify the standard deviation for Pvs_per_session:"
   ]
  },
  {
   "cell_type": "code",
   "execution_count": 24,
   "metadata": {},
   "outputs": [
    {
     "name": "stdout",
     "output_type": "stream",
     "text": [
      "Standard deviation of experiment metric is 3.0591\n"
     ]
    }
   ],
   "source": [
    "std = statistics.stdev(df.Pvs_per_session)\n",
    "print (\"Standard deviation of experiment metric is % s\"\n",
    "    % round(std,4))"
   ]
  },
  {
   "cell_type": "markdown",
   "metadata": {},
   "source": [
    "Identify data > 3 standard deviations:"
   ]
  },
  {
   "cell_type": "code",
   "execution_count": 25,
   "metadata": {},
   "outputs": [
    {
     "name": "stdout",
     "output_type": "stream",
     "text": [
      "Remove data from data-frame that is 9.1774 above the mean of the data\n"
     ]
    }
   ],
   "source": [
    "outliers = 3 * std\n",
    "\n",
    "print(\"Remove data from data-frame that is % s above the mean of the data\"\n",
    "     % round(outliers,4))"
   ]
  },
  {
   "cell_type": "markdown",
   "metadata": {},
   "source": [
    "New data-frame that omits this range and look at new computed means:"
   ]
  },
  {
   "cell_type": "code",
   "execution_count": 26,
   "metadata": {},
   "outputs": [
    {
     "data": {
      "text/html": [
       "<div>\n",
       "<style scoped>\n",
       "    .dataframe tbody tr th:only-of-type {\n",
       "        vertical-align: middle;\n",
       "    }\n",
       "\n",
       "    .dataframe tbody tr th {\n",
       "        vertical-align: top;\n",
       "    }\n",
       "\n",
       "    .dataframe thead th {\n",
       "        text-align: right;\n",
       "    }\n",
       "</style>\n",
       "<table border=\"1\" class=\"dataframe\">\n",
       "  <thead>\n",
       "    <tr style=\"text-align: right;\">\n",
       "      <th></th>\n",
       "      <th>Pvs_per_session</th>\n",
       "    </tr>\n",
       "    <tr>\n",
       "      <th>Variant</th>\n",
       "      <th></th>\n",
       "    </tr>\n",
       "  </thead>\n",
       "  <tbody>\n",
       "    <tr>\n",
       "      <th>Control_Matrix</th>\n",
       "      <td>5.338705</td>\n",
       "    </tr>\n",
       "    <tr>\n",
       "      <th>Variant_BT</th>\n",
       "      <td>5.465452</td>\n",
       "    </tr>\n",
       "  </tbody>\n",
       "</table>\n",
       "</div>"
      ],
      "text/plain": [
       "                Pvs_per_session\n",
       "Variant                        \n",
       "Control_Matrix         5.338705\n",
       "Variant_BT             5.465452"
      ]
     },
     "execution_count": 26,
     "metadata": {},
     "output_type": "execute_result"
    }
   ],
   "source": [
    "df_filtered = df[(df['Pvs_per_session'] <  outliers)]\n",
    "df_filtered.groupby(['Variant']).mean()"
   ]
  },
  {
   "cell_type": "markdown",
   "metadata": {},
   "source": [
    "## Significance testing"
   ]
  },
  {
   "cell_type": "markdown",
   "metadata": {},
   "source": [
    "We can now perform our parametric statistical test. The code below will execute an analysis of variance (ANOVA) test, although ANOVA can handle multiple independent variables/groups, the individual test performed between each group will be a t.test, which is the most widely recognised assessment for significance testing using a frequentist framework: "
   ]
  },
  {
   "cell_type": "code",
   "execution_count": 27,
   "metadata": {},
   "outputs": [
    {
     "name": "stdout",
     "output_type": "stream",
     "text": [
      "     Multiple Comparison of Means - Tukey HSD, FWER=0.05      \n",
      "==============================================================\n",
      "    group1       group2   meandiff p-adj  lower  upper  reject\n",
      "--------------------------------------------------------------\n",
      "Control_Matrix Variant_BT   0.1267 0.7328 -0.577 0.8305  False\n",
      "--------------------------------------------------------------\n",
      "Reject null hypothesis and significant difference between experimental groups: [False]\n"
     ]
    }
   ],
   "source": [
    "mc = MultiComparison(df_filtered['Pvs_per_session'], df_filtered['Variant'])\n",
    "mc_results = mc.tukeyhsd()\n",
    "null_hypothesis = mc_results.reject\n",
    "\n",
    "print(mc_results)\n",
    "print(\"Reject null hypothesis and significant difference between experimental groups:\",null_hypothesis,)"
   ]
  },
  {
   "cell_type": "markdown",
   "metadata": {},
   "source": [
    "As seen above, the results from this experiment are statistically non-significanct we have failed to reject our null hypothesis (that no difference exists between independent groups). Which means you can confidently tell your stakeholders that they needn't worry about the impact on Pvs_per_session by introducing the new widget. It may have increased clicks, but failed to move the needle for our consumption metric. Below, we will look at some useful and user-friendly visualisations that you can present to stakeholders."
   ]
  },
  {
   "cell_type": "markdown",
   "metadata": {},
   "source": [
    "## Visualisations"
   ]
  },
  {
   "cell_type": "markdown",
   "metadata": {},
   "source": [
    "Prior to plotting data, we are going to get it in a format that makes visualisations easy to interpret. This process involves taking samples (1500) from our Pvs_per_session data for each of our experimental conditions and plotting the distribution of all of the samples. As governed by the central limit this means data will follow a normal/bell-shaped distribution with a sample mean that reflects the overall mean of the data. This is useful for visualisations as there will be no heavy skews/tails in the data whilst still maintaining the mean values for the overall mean of each experimental condition:"
   ]
  },
  {
   "cell_type": "code",
   "execution_count": 28,
   "metadata": {},
   "outputs": [
    {
     "data": {
      "text/html": [
       "<div>\n",
       "<style scoped>\n",
       "    .dataframe tbody tr th:only-of-type {\n",
       "        vertical-align: middle;\n",
       "    }\n",
       "\n",
       "    .dataframe tbody tr th {\n",
       "        vertical-align: top;\n",
       "    }\n",
       "\n",
       "    .dataframe thead th {\n",
       "        text-align: right;\n",
       "    }\n",
       "</style>\n",
       "<table border=\"1\" class=\"dataframe\">\n",
       "  <thead>\n",
       "    <tr style=\"text-align: right;\">\n",
       "      <th>Variant</th>\n",
       "      <th>Control_Matrix</th>\n",
       "      <th>Variant_BT</th>\n",
       "    </tr>\n",
       "  </thead>\n",
       "  <tbody>\n",
       "    <tr>\n",
       "      <th>Pvs_per_session</th>\n",
       "      <td>5.473302</td>\n",
       "      <td>5.431049</td>\n",
       "    </tr>\n",
       "    <tr>\n",
       "      <th>Pvs_per_session</th>\n",
       "      <td>5.379704</td>\n",
       "      <td>5.179582</td>\n",
       "    </tr>\n",
       "    <tr>\n",
       "      <th>Pvs_per_session</th>\n",
       "      <td>4.862050</td>\n",
       "      <td>5.835280</td>\n",
       "    </tr>\n",
       "    <tr>\n",
       "      <th>Pvs_per_session</th>\n",
       "      <td>4.812345</td>\n",
       "      <td>5.872012</td>\n",
       "    </tr>\n",
       "    <tr>\n",
       "      <th>Pvs_per_session</th>\n",
       "      <td>5.554773</td>\n",
       "      <td>5.815305</td>\n",
       "    </tr>\n",
       "    <tr>\n",
       "      <th>...</th>\n",
       "      <td>...</td>\n",
       "      <td>...</td>\n",
       "    </tr>\n",
       "    <tr>\n",
       "      <th>Pvs_per_session</th>\n",
       "      <td>5.149590</td>\n",
       "      <td>5.641678</td>\n",
       "    </tr>\n",
       "    <tr>\n",
       "      <th>Pvs_per_session</th>\n",
       "      <td>5.116710</td>\n",
       "      <td>5.972610</td>\n",
       "    </tr>\n",
       "    <tr>\n",
       "      <th>Pvs_per_session</th>\n",
       "      <td>5.587683</td>\n",
       "      <td>5.571162</td>\n",
       "    </tr>\n",
       "    <tr>\n",
       "      <th>Pvs_per_session</th>\n",
       "      <td>5.536254</td>\n",
       "      <td>5.866079</td>\n",
       "    </tr>\n",
       "    <tr>\n",
       "      <th>Pvs_per_session</th>\n",
       "      <td>5.716110</td>\n",
       "      <td>5.282069</td>\n",
       "    </tr>\n",
       "  </tbody>\n",
       "</table>\n",
       "<p>100 rows × 2 columns</p>\n",
       "</div>"
      ],
      "text/plain": [
       "Variant          Control_Matrix  Variant_BT\n",
       "Pvs_per_session        5.473302    5.431049\n",
       "Pvs_per_session        5.379704    5.179582\n",
       "Pvs_per_session        4.862050    5.835280\n",
       "Pvs_per_session        4.812345    5.872012\n",
       "Pvs_per_session        5.554773    5.815305\n",
       "...                         ...         ...\n",
       "Pvs_per_session        5.149590    5.641678\n",
       "Pvs_per_session        5.116710    5.972610\n",
       "Pvs_per_session        5.587683    5.571162\n",
       "Pvs_per_session        5.536254    5.866079\n",
       "Pvs_per_session        5.716110    5.282069\n",
       "\n",
       "[100 rows x 2 columns]"
      ]
     },
     "execution_count": 28,
     "metadata": {},
     "output_type": "execute_result"
    }
   ],
   "source": [
    "# Take random samples from each experimental condition in order to transform to normal distribution to plot distributions\n",
    "\n",
    "results = [] # create an empty list into which I insert the sampled means\n",
    "random_state = np.arange(0,1500) # random seeds for reproducibility\n",
    "\n",
    "\n",
    "# Sample with replacement using 50% of the data; do this 1000 times and append the mean seeling time to the list ‘results’\n",
    "\n",
    "\n",
    "for i in range(1500):\n",
    " sample = df_filtered.sample(frac=0.5, replace=True, random_state=random_state[i]).groupby(by='Variant')['Pvs_per_session'].mean()\n",
    " results.append(sample)\n",
    "dist_samples = pd.DataFrame(results)\n",
    "dist_samples.head(100)"
   ]
  },
  {
   "cell_type": "markdown",
   "metadata": {},
   "source": [
    "Plot sampled means in boxplot for experimentation metric:"
   ]
  },
  {
   "cell_type": "code",
   "execution_count": 29,
   "metadata": {},
   "outputs": [
    {
     "name": "stdout",
     "output_type": "stream",
     "text": [
      "Variant\n",
      "Control_Matrix    5.338705\n",
      "Variant_BT        5.465452\n",
      "Name: Pvs_per_session, dtype: float64\n"
     ]
    },
    {
     "data": {
      "image/png": "[encoded data removed]",
      "text/plain": [
       "<Figure size 720x576 with 1 Axes>"
      ]
     },
     "metadata": {
      "needs_background": "light"
     },
     "output_type": "display_data"
    }
   ],
   "source": [
    "plt.figure(figsize=(10,8))\n",
    "dist_samples.boxplot(column=['Control_Matrix', \n",
    "                                       'Variant_BT'])\n",
    "\n",
    "filtered = df_filtered.groupby(['Variant']).mean()\n",
    "filtered = filtered['Pvs_per_session']\n",
    "print(filtered)"
   ]
  },
  {
   "cell_type": "markdown",
   "metadata": {},
   "source": [
    "Plot sampled means for metric in distribution plot:"
   ]
  },
  {
   "cell_type": "code",
   "execution_count": 30,
   "metadata": {},
   "outputs": [
    {
     "data": {
      "image/png": "[encoded data removed]",
      "text/plain": [
       "<Figure size 720x576 with 1 Axes>"
      ]
     },
     "metadata": {
      "needs_background": "light"
     },
     "output_type": "display_data"
    }
   ],
   "source": [
    "plt.figure(figsize=(10,8))\n",
    "sb.distplot(dist_samples[['Control_Matrix']], hist=True, color='green')\n",
    "sb.distplot(dist_samples[['Variant_BT']], hist=True, color='orange')\n",
    "plt.legend(labels=['Control_Matrix','Variant_BT'])\n",
    "plt.title(\"Distribution of Sampled Mean Metric per Variant\")\n",
    "plt.show()"
   ]
  },
  {
   "cell_type": "markdown",
   "metadata": {},
   "source": [
    "These are some useful visualisations you can utilise to show the overlap of the data to identify the lack of difference between groups. In the next chapter we will look to perform the same analysis, but returning to our good old Bayesian estimations."
   ]
  }
 ],
 "metadata": {
  "kernelspec": {
   "display_name": "Python 3",
   "language": "python",
   "name": "python3"
  },
  "language_info": {
   "codemirror_mode": {
    "name": "ipython",
    "version": 3
   },
   "file_extension": ".py",
   "mimetype": "text/x-python",
   "name": "python",
   "nbconvert_exporter": "python",
   "pygments_lexer": "ipython3",
   "version": "3.8.3"
  }
 },
 "nbformat": 4,
 "nbformat_minor": 4
}
